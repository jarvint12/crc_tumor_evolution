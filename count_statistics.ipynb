{
 "cells": [
  {
   "cell_type": "code",
   "execution_count": 11,
   "id": "71c1621b",
   "metadata": {},
   "outputs": [],
   "source": [
    "import torch\n",
    "from torch.utils.data import ConcatDataset\n",
    "\n",
    "from process_input.input_to_3Dmatrix import parse_matrices, FeatureDataset\n",
    "\n",
    "mode=\"clu431\""
   ]
  },
  {
   "cell_type": "code",
   "execution_count": 2,
   "id": "d9c28e60",
   "metadata": {},
   "outputs": [],
   "source": [
    "\"\"\"In input file, 33 base, 17th is altering, 1st A, 2nd C, 3rd G, 4th T\"\"\"\n",
    "class_types=['AA', 'AC', 'AG', 'AT', 'CA', 'CC', 'CG', 'CT', 'GA', 'GC', 'GG',\n",
    "            'GT', 'TA', 'TC', 'TG', 'TT']\n",
    "classes={'CA': 0, 'CC': 1, 'CG': 2, 'CT': 3, 'TA': 4, 'TC': 5, 'TG': 6, 'TT': 7}"
   ]
  },
  {
   "cell_type": "code",
   "execution_count": 12,
   "id": "44bc2dad",
   "metadata": {},
   "outputs": [],
   "source": [
    "if mode==\"clu1\":\n",
    "    train_file=\"data/20220214/sompred_crc9_clu1_pyri_mut_combined_train.matrix\"\n",
    "    valid_file=\"data/20220214/sompred_crc9_clu1_pyri_mut_combined_valid.matrix\"\n",
    "else:\n",
    "    train_file=\"data/{0}/sompred_crc9_{0}_pyri_mut_combined_train.matrix\".format(mode)\n",
    "    valid_file=\"data/{0}/sompred_crc9_{0}_pyri_mut_combined_valid.matrix\".format(mode)\n",
    "test_file=\"data/20220214/sompred_crc9_clu1_pyri_mut_combined_test.matrix\""
   ]
  },
  {
   "cell_type": "code",
   "execution_count": 13,
   "id": "1153f8c5",
   "metadata": {},
   "outputs": [],
   "source": [
    "trainset_input, trainset_target = parse_matrices(train_file, classes, norm=True)\n",
    "valid_input, valid_target = parse_matrices(valid_file, classes, norm=True)\n",
    "test_input, test_target = parse_matrices(test_file, classes, norm=True)"
   ]
  },
  {
   "cell_type": "code",
   "execution_count": 5,
   "id": "dfde2a0d",
   "metadata": {},
   "outputs": [
    {
     "name": "stdout",
     "output_type": "stream",
     "text": [
      "tensor(1.)\n"
     ]
    },
    {
     "ename": "NameError",
     "evalue": "name 'trainset_input2' is not defined",
     "output_type": "error",
     "traceback": [
      "\u001b[0;31m---------------------------------------------------------------------------\u001b[0m",
      "\u001b[0;31mNameError\u001b[0m                                 Traceback (most recent call last)",
      "Cell \u001b[0;32mIn[5], line 2\u001b[0m\n\u001b[1;32m      1\u001b[0m \u001b[38;5;28mprint\u001b[39m(trainset_input[:,\u001b[38;5;241m0\u001b[39m,:,:]\u001b[38;5;241m.\u001b[39mmax())\n\u001b[0;32m----> 2\u001b[0m \u001b[38;5;28mprint\u001b[39m(trainset_input\u001b[38;5;241m.\u001b[39mshape,\u001b[43mtrainset_input2\u001b[49m\u001b[38;5;241m.\u001b[39mshape,trainset_target\u001b[38;5;241m.\u001b[39mshape)\n\u001b[1;32m      3\u001b[0m \u001b[38;5;28mprint\u001b[39m(valid_input\u001b[38;5;241m.\u001b[39mshape,valid_target\u001b[38;5;241m.\u001b[39mshape)\n\u001b[1;32m      4\u001b[0m \u001b[38;5;28mprint\u001b[39m(test_input\u001b[38;5;241m.\u001b[39mshape,test_target\u001b[38;5;241m.\u001b[39mshape)\n",
      "\u001b[0;31mNameError\u001b[0m: name 'trainset_input2' is not defined"
     ]
    }
   ],
   "source": [
    "print(trainset_input[:,0,:,:].max())\n",
    "print(trainset_input.shape,trainset_input.shape,trainset_target.shape)\n",
    "print(valid_input.shape,valid_target.shape)\n",
    "print(test_input.shape,test_target.shape)"
   ]
  },
  {
   "cell_type": "code",
   "execution_count": 14,
   "id": "b99c35e7",
   "metadata": {},
   "outputs": [],
   "source": [
    "train_dataset=FeatureDataset(data=trainset_input, labels=trainset_target)\n",
    "valid_dataset=FeatureDataset(data=valid_input, labels=valid_target)\n",
    "test_dataset=FeatureDataset(data=test_input, labels=test_target)\n",
    "dataset = ConcatDataset([train_dataset, valid_dataset]) #Combines validation and training datasets for cross validation"
   ]
  },
  {
   "cell_type": "code",
   "execution_count": 15,
   "id": "9750ad76",
   "metadata": {},
   "outputs": [
    {
     "name": "stdout",
     "output_type": "stream",
     "text": [
      "Total size: 16055\n",
      "Training set size: 13650\n",
      "Validation set size: 2405\n",
      "Amount of 'CC' in training set: 4577.\n",
      "Amount of 'TT' in training set: 6341.\n",
      "Train pos, neg: 2732 10918\n",
      "Validation neg, pos: 479 1926\n",
      "Test neg, pos: 98 98\n"
     ]
    }
   ],
   "source": [
    "print(\"Total size: {}\".format(trainset_target.shape[0]+valid_target.shape[0]))\n",
    "print(\"Training set size: {}\".format(trainset_target.shape[0]))\n",
    "print(\"Validation set size: {}\".format(valid_target.shape[0]))\n",
    "print(\"Amount of 'CC' in training set: {}.\".format(torch.sum(trainset_target==1)))\n",
    "print(\"Amount of 'TT' in training set: {}.\".format(torch.sum(trainset_target==7)))\n",
    "print(\"Train pos, neg:\",(trainset_target.shape[0]-torch.sum(trainset_target==1)-torch.sum(trainset_target==7)).item(),\n",
    "      (torch.sum(trainset_target==1)+torch.sum(trainset_target==7)).item())\n",
    "print(\"Validation neg, pos:\",(valid_target.shape[0]-torch.sum(valid_target==1)-torch.sum(valid_target==7)).item(),\n",
    "      (torch.sum(valid_target==1)+torch.sum(valid_target==7)).item())\n",
    "print(\"Test neg, pos:\",(test_target.shape[0]-torch.sum(test_target==1)-torch.sum(test_target==7)).item(),\n",
    "      (torch.sum(test_target==1)+torch.sum(test_target==7)).item())"
   ]
  },
  {
   "cell_type": "code",
   "execution_count": null,
   "id": "6b0ff492",
   "metadata": {},
   "outputs": [],
   "source": [
    "{'CA': 0, 'CC': 1, 'CG': 2, 'CT': 3, 'TA': 4, 'TC': 5, 'TG': 6, 'TT': 7}\n",
    "print(\"Train+valid size: {}\".format(trainset_target.shape[0]+valid_target.shape[0]))\n",
    "print(\"Amount of 'CA' in train: {}.\".format(torch.sum(trainset_target==0)))\n",
    "print(\"Amount of 'CC' in train: {}.\".format(torch.sum(trainset_target==1)))\n",
    "print(\"Amount of 'CG' in train: {}.\".format(torch.sum(trainset_target==2)))\n",
    "print(\"Amount of 'CT' in train: {}.\".format(torch.sum(trainset_target==3)))\n",
    "print(\"Amount of 'TA' in train: {}.\".format(torch.sum(trainset_target==4)))\n",
    "print(\"Amount of 'TC' in train: {}.\".format(torch.sum(trainset_target==5)))\n",
    "print(\"Amount of 'TG' in train: {}.\".format(torch.sum(trainset_target==6)))\n",
    "print(\"Amount of 'TT' in train: {}.\".format(torch.sum(trainset_target==7)))\n",
    "print(\"--------------------------------------------\")\n",
    "print(\"Amount of 'CA' in valid: {}.\".format(torch.sum(valid_target==0)))\n",
    "print(\"Amount of 'CC' in valid: {}.\".format(torch.sum(valid_target==1)))\n",
    "print(\"Amount of 'CG' in valid: {}.\".format(torch.sum(valid_target==2)))\n",
    "print(\"Amount of 'CT' in valid: {}.\".format(torch.sum(valid_target==3)))\n",
    "print(\"Amount of 'TA' in valid: {}.\".format(torch.sum(valid_target==4)))\n",
    "print(\"Amount of 'TC' in valid: {}.\".format(torch.sum(valid_target==5)))\n",
    "print(\"Amount of 'TG' in valid: {}.\".format(torch.sum(valid_target==6)))\n",
    "print(\"Amount of 'TT' in valid: {}.\".format(torch.sum(valid_target==7)))\n",
    "print(\"--------------------------------------------\")\n",
    "print(\"Amount of 'CA' in test: {}.\".format(torch.sum(test_target==0)))\n",
    "print(\"Amount of 'CC' in test: {}.\".format(torch.sum(test_target==1)))\n",
    "print(\"Amount of 'CG' in test: {}.\".format(torch.sum(test_target==2)))\n",
    "print(\"Amount of 'CT' in test: {}.\".format(torch.sum(test_target==3)))\n",
    "print(\"Amount of 'TA' in test: {}.\".format(torch.sum(test_target==4)))\n",
    "print(\"Amount of 'TC' in test: {}.\".format(torch.sum(test_target==5)))\n",
    "print(\"Amount of 'TG' in test: {}.\".format(torch.sum(test_target==6)))\n",
    "print(\"Amount of 'TT' in test: {}.\".format(torch.sum(test_target==7)))"
   ]
  }
 ],
 "metadata": {
  "kernelspec": {
   "display_name": "Python 3 (ipykernel)",
   "language": "python",
   "name": "python3"
  },
  "language_info": {
   "codemirror_mode": {
    "name": "ipython",
    "version": 3
   },
   "file_extension": ".py",
   "mimetype": "text/x-python",
   "name": "python",
   "nbconvert_exporter": "python",
   "pygments_lexer": "ipython3",
   "version": "3.10.12"
  }
 },
 "nbformat": 4,
 "nbformat_minor": 5
}
